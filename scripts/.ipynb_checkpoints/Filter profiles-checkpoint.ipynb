{
 "cells": [
  {
   "cell_type": "code",
   "execution_count": 1,
   "metadata": {
    "collapsed": false
   },
   "outputs": [],
   "source": [
    "import copy\n",
    "import helpers, dirs\n",
    "import langid\n",
    "from genderizer.genderizer import Genderizer"
   ]
  },
  {
   "cell_type": "code",
   "execution_count": 28,
   "metadata": {
    "collapsed": false
   },
   "outputs": [],
   "source": [
    "discovery_list, discovery_header = helpers.load_csv(dirs.dirs_dict[\"discoveries\"][\"instagram\"])"
   ]
  },
  {
   "cell_type": "code",
   "execution_count": 29,
   "metadata": {
    "collapsed": false
   },
   "outputs": [
    {
     "data": {
      "text/plain": [
       "41065"
      ]
     },
     "execution_count": 29,
     "metadata": {},
     "output_type": "execute_result"
    }
   ],
   "source": [
    "len(discovery_list)"
   ]
  },
  {
   "cell_type": "code",
   "execution_count": 7,
   "metadata": {
    "collapsed": false
   },
   "outputs": [],
   "source": [
    "for i,profile in enumerate(discovery_list):\n",
    "    discovery_list[i]['follow_ratio'] = profile['num_followers']/profile['num_follows'] if profile['num_follows'] > 0 else True"
   ]
  },
  {
   "cell_type": "code",
   "execution_count": 3,
   "metadata": {
    "collapsed": false
   },
   "outputs": [
    {
     "data": {
      "text/plain": [
       "4780941"
      ]
     },
     "execution_count": 3,
     "metadata": {},
     "output_type": "execute_result"
    }
   ],
   "source": [
    "sum(p['num_follows'] * int(p['degree']==1) for p in discovery_list)"
   ]
  },
  {
   "cell_type": "code",
   "execution_count": 11,
   "metadata": {
    "collapsed": true
   },
   "outputs": [],
   "source": [
    "def is_english(description):\n",
    "    try:\n",
    "        lang, prob = langid.classify(description)\n",
    "    except:\n",
    "        return False\n",
    "    return 'en' == lang"
   ]
  },
  {
   "cell_type": "code",
   "execution_count": 12,
   "metadata": {
    "collapsed": true
   },
   "outputs": [],
   "source": [
    "def is_male(name, description):\n",
    "    # if they don't have a name listed,\n",
    "    # then they can't be influencers\n",
    "    if not name:\n",
    "        return False\n",
    "    first_name = name.split(' ')[0]\n",
    "    try:\n",
    "        gender = Genderizer.detect(firstName = first_name, text=description)\n",
    "    except:\n",
    "        # if it doesn't know what gender\n",
    "        # the person is, we'll still keep them\n",
    "        return True\n",
    "    return 'male' == gender"
   ]
  },
  {
   "cell_type": "code",
   "execution_count": 13,
   "metadata": {
    "collapsed": true
   },
   "outputs": [],
   "source": [
    "def filter_list(list_of_dicts, key, value, gte=True):\n",
    "    return filter(lambda profile: bool(profile[key] >= value) == gte, list_of_dicts)    "
   ]
  },
  {
   "cell_type": "code",
   "execution_count": 14,
   "metadata": {
    "collapsed": true
   },
   "outputs": [],
   "source": [
    "def filter_function(list_of_dicts, fn, key_args):\n",
    "    return filter(lambda profile: fn(*[profile[k] for k in key_args]), list_of_dicts)"
   ]
  },
  {
   "cell_type": "code",
   "execution_count": 22,
   "metadata": {
    "collapsed": false
   },
   "outputs": [],
   "source": [
    "filters = (\n",
    "            # less than filters\n",
    "            ('num_followers', 1000000, False),\n",
    "    \n",
    "            # greater than filters\n",
    "            ('num_followers', 10000,   True),\n",
    "            ('num_posts',     100,     True),\n",
    "            ('follow_ratio',  10,      True),\n",
    "          )"
   ]
  },
  {
   "cell_type": "code",
   "execution_count": 23,
   "metadata": {
    "collapsed": false
   },
   "outputs": [],
   "source": [
    "new_list = copy.deepcopy(discovery_list)\n",
    "for key, value, gte in filters:\n",
    "    new_list = filter_list(new_list, key, value, gte)\n",
    "new_list = filter_function(new_list, is_english, ['description'])"
   ]
  },
  {
   "cell_type": "code",
   "execution_count": 25,
   "metadata": {
    "collapsed": false
   },
   "outputs": [],
   "source": [
    "new_list = filter_function(new_list, is_male, ['name', 'description',])"
   ]
  },
  {
   "cell_type": "code",
   "execution_count": 27,
   "metadata": {
    "collapsed": true
   },
   "outputs": [],
   "source": [
    "helpers.write_csv(dirs.dirs_dict[\"discoveries\"][\"instagram\"]+'-filtered', new_list, discovery_header, sort=['num_followers',], sort_rev=True)"
   ]
  },
  {
   "cell_type": "code",
   "execution_count": null,
   "metadata": {
    "collapsed": true
   },
   "outputs": [],
   "source": []
  },
  {
   "cell_type": "code",
   "execution_count": null,
   "metadata": {
    "collapsed": true
   },
   "outputs": [],
   "source": []
  },
  {
   "cell_type": "code",
   "execution_count": null,
   "metadata": {
    "collapsed": true
   },
   "outputs": [],
   "source": []
  },
  {
   "cell_type": "code",
   "execution_count": null,
   "metadata": {
    "collapsed": true
   },
   "outputs": [],
   "source": []
  }
 ],
 "metadata": {
  "kernelspec": {
   "display_name": "Python 2",
   "language": "python",
   "name": "python2"
  },
  "language_info": {
   "codemirror_mode": {
    "name": "ipython",
    "version": 2
   },
   "file_extension": ".py",
   "mimetype": "text/x-python",
   "name": "python",
   "nbconvert_exporter": "python",
   "pygments_lexer": "ipython2",
   "version": "2.7.5"
  }
 },
 "nbformat": 4,
 "nbformat_minor": 0
}
